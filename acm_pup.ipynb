{
 "cells": [
  {
   "cell_type": "markdown",
   "metadata": {},
   "source": [
    "# ACM Pick up Python Event\n",
    "\n",
    "Welcome to the Spring 2025 Pick up Python program! Here, students will be introduced to the basics of programming, with topics including variables, reading from and writing to files, creating functions, and working with libraries and modules. By the conclusion of this event, students will create a to-do application which incorporates the previously mentioned features to record, load, and organize tasks the user needs to complete.\n",
    "\n",
    "This program is designed for students who have little to no programming experience who are interested in Data Sicence, programming, or simply want to learn a second language. The intended way to experience this course is to learn in-person with guidance from ACM leadership.\n",
    "\n",
    "The contents and design of this course is heavily inspired by Practical Python Programming, a course by David Beazley. This course was first brought to my attention by Dr. Fenner, and he is currently using it in DS 362: Data Driven Knowledge Discovery. If you are interested in learning more about Python, please see the remainder of David's course [here](https://dabeaz-course.github.io/practical-python/Notes/Contents.html), or at https://dabeaz-course.github.io/practical-python/Notes/Contents.html."
   ]
  },
  {
   "cell_type": "markdown",
   "metadata": {},
   "source": [
    "## Prerequisites\n",
    "\n",
    "The only installation required for this program is the Python programming language itself. You will be responsible for configuring your code editor of choice to work with Python. Most of this program will have you working with Python in two ways: in your code editor, or within the command line/terminal prompt."
   ]
  },
  {
   "cell_type": "markdown",
   "metadata": {},
   "source": [
    "## Variables in Python\n",
    "\n",
    "Here I will introduce variables rather quickly"
   ]
  },
  {
   "cell_type": "markdown",
   "metadata": {},
   "source": [
    "## Reading From and Writing To Files\n",
    "\n",
    "Here I will intro reading from files. Students can enter whatever they want into a .txt file, save it, and have their Python program read it.\n",
    "\n",
    "Then, I will intro writing to files. Students will use the same file they read from, and write something to it. This is probably all we'll do with these files."
   ]
  },
  {
   "cell_type": "markdown",
   "metadata": {},
   "source": [
    "## Creating Functions\n",
    "\n",
    "We'll intro functions as a way for students to compartamentalize their unruly lines of code. We'll have them call their functions multiple times and let them observe how their variables change as a result of successive calls."
   ]
  },
  {
   "cell_type": "markdown",
   "metadata": {},
   "source": [
    "## Libraries and Modules (The Fun Part!)\n",
    "\n",
    "Here, we'll go over import statements (that were probably previously used), talk about how and where to find interesting packages which suit your needs, and use all the skills from previous parts to create a final project (that's potentially resume-worthy!)."
   ]
  }
 ],
 "metadata": {
  "language_info": {
   "name": "python"
  }
 },
 "nbformat": 4,
 "nbformat_minor": 2
}

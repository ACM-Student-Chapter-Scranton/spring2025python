{
 "cells": [
  {
   "cell_type": "markdown",
   "metadata": {},
   "source": [
    "# ACM Pick up Python Event\n",
    "\n",
    "Welcome to the Spring 2025 Pick up Python program! Here, students will be introduced to the basics of programming, with topics including variables, reading from and writing to files, creating functions, and working with libraries and modules. By the conclusion of this event, students will create a to-do application which incorporates the previously mentioned features to record, load, and organize tasks the user needs to complete.\n",
    "\n",
    "This program is designed for students who have little to no programming experience who are interested in Data Sicence, programming, or simply want to learn a second language. The intended way to experience this course is to learn in-person with guidance from ACM leadership.\n",
    "\n",
    "The contents and design of this course is heavily inspired by Practical Python Programming, a course by David Beazley. This course was first brought to my attention by Dr. Fenner, and he is currently using it in DS 362: Data Driven Knowledge Discovery. If you are interested in learning more about Python, please see the remainder of David's course [here](https://dabeaz-course.github.io/practical-python/Notes/Contents.html), or at https://dabeaz-course.github.io/practical-python/Notes/Contents.html."
   ]
  },
  {
   "cell_type": "markdown",
   "metadata": {},
   "source": [
    "## Prerequisites\n",
    "\n",
    "The only installation required for this program is the Python programming language itself. You will be responsible for configuring your code editor of choice to work with Python. Most of this program will have you working with Python in two ways: in your code editor, or within the command line/terminal prompt."
   ]
  },
  {
   "cell_type": "markdown",
   "metadata": {},
   "source": [
    "## Variables in Python\n",
    "\n",
    "If your background is with strongly-typed programming languages (C, Java, etc.), than the first thing you'll notice when writing Python is the lack of `type` keywords before every variable. In Python, the interpreter will figure out the type of your varaible based upon what is assigned to it."
   ]
  },
  {
   "cell_type": "code",
   "execution_count": 1,
   "metadata": {},
   "outputs": [],
   "source": [
    "count = 10\n",
    "pi = 3.14159256 \n",
    "flag = False\n",
    "username = \"h4ck3rm4n\""
   ]
  },
  {
   "cell_type": "markdown",
   "metadata": {},
   "source": [
    "To check if Python actually determines the type based upon assignment, you can make a call to the `type()` function, which tells you the type of a variable."
   ]
  },
  {
   "cell_type": "code",
   "execution_count": 2,
   "metadata": {},
   "outputs": [
    {
     "name": "stdout",
     "output_type": "stream",
     "text": [
      "<class 'int'>\n",
      "<class 'float'>\n",
      "<class 'bool'>\n",
      "<class 'str'>\n"
     ]
    }
   ],
   "source": [
    "print(type(count))\n",
    "print(type(pi))\n",
    "print(type(flag))\n",
    "print(type(username))"
   ]
  },
  {
   "cell_type": "markdown",
   "metadata": {},
   "source": [
    "Is this it? Are there any more data types? Of course! Most Python scripts and programs will make frequent use of three slightly more complex, but exceedingly more powerful, data types that deal with collections of variables. The fantastic four are: `dict`, `list`, `set`, and `tuple`."
   ]
  },
  {
   "cell_type": "code",
   "execution_count": 3,
   "metadata": {},
   "outputs": [],
   "source": [
    "checklist = ['Eggs', 'Ham', 'Coffee', 'Bread']                                          # Ordered list of same-type variables\n",
    "profile = {'name': 'Monty Python', 'age': 48, 'is_student': False, 'balance': 42.83}    # Key, Value pairs of varying types\n",
    "unique_names = {'John', 'Jim', 'Jack', 'Jane', 'Janice'}                                # Unordered list of same-type variables\n",
    "coordinates = (41.406848, -75.658259)                                                   # IMMUTABLE ordered list of same-type variables"
   ]
  },
  {
   "cell_type": "markdown",
   "metadata": {},
   "source": [
    "Just like the previous variables, you can call `type()` to make sure you and Python are on the same page."
   ]
  },
  {
   "cell_type": "code",
   "execution_count": 4,
   "metadata": {},
   "outputs": [
    {
     "name": "stdout",
     "output_type": "stream",
     "text": [
      "<class 'list'>\n",
      "<class 'dict'>\n",
      "<class 'set'>\n",
      "<class 'tuple'>\n"
     ]
    }
   ],
   "source": [
    "print(type(checklist))\n",
    "print(type(profile))\n",
    "print(type(unique_names))\n",
    "print(type(coordinates))"
   ]
  },
  {
   "cell_type": "markdown",
   "metadata": {},
   "source": [
    "Now, to do anything useful with these wonderful variables, we need a little bit of logic! If-statements work similar to those in Java and C, with only slightly different syntax."
   ]
  },
  {
   "cell_type": "code",
   "execution_count": 5,
   "metadata": {},
   "outputs": [
    {
     "name": "stdout",
     "output_type": "stream",
     "text": [
      "Value is set to False\n"
     ]
    }
   ],
   "source": [
    "value = False\n",
    "\n",
    "if value == True:\n",
    "    print('Value is set to True')\n",
    "elif value == False:                    # only way to write 'else if' in Python\n",
    "    print('Value is set to False')\n",
    "else:\n",
    "    print('Value variable not found')"
   ]
  },
  {
   "cell_type": "markdown",
   "metadata": {},
   "source": [
    "To do anything useful with the collection data types, we'll employ a list. Like Java and C, Python has `while` and `for` loops. `while` loops work identically to those in Java and C, where it continues to iterate until the condition is no longer satisfied (no longer evaluates to `True`)."
   ]
  },
  {
   "cell_type": "code",
   "execution_count": 6,
   "metadata": {},
   "outputs": [
    {
     "name": "stdout",
     "output_type": "stream",
     "text": [
      "The value is 0\n",
      "The value is 1\n",
      "The value is 2\n",
      "The value is 3\n",
      "The value is 4\n"
     ]
    }
   ],
   "source": [
    "i = 0\n",
    "while i < 5:\n",
    "    print('The value is', i)\n",
    "    i += 1                      # There is no ++ or -- in Python, sadly"
   ]
  },
  {
   "cell_type": "markdown",
   "metadata": {},
   "source": [
    "That being said, `for` loops work a bit differently in Python. `for` loops in Python are most similar to enhanced for loops in Java, where you simply iterate through a list in its entirety, and don't have too much care for a specific index or explicit loop condition."
   ]
  },
  {
   "cell_type": "code",
   "execution_count": 7,
   "metadata": {},
   "outputs": [
    {
     "name": "stdout",
     "output_type": "stream",
     "text": [
      "H\n",
      "He\n",
      "Li\n",
      "Be\n",
      "B\n",
      "C\n",
      "N\n",
      "O\n",
      "F\n",
      "Ne\n"
     ]
    }
   ],
   "source": [
    "elements = ['H', 'He', 'Li', 'Be', 'B', 'C', 'N', 'O', 'F', 'Ne']\n",
    "\n",
    "for element in elements:\n",
    "    print(element)"
   ]
  },
  {
   "cell_type": "markdown",
   "metadata": {},
   "source": [
    "Don't panic, you can still have your iterator in Python without too much hastle! All you need to do is to wrap your list in a call to `enumerate()`, which will pair each element of your list with a number (beginning at 0) which you can then use as your index!"
   ]
  },
  {
   "cell_type": "code",
   "execution_count": 8,
   "metadata": {},
   "outputs": [
    {
     "name": "stdout",
     "output_type": "stream",
     "text": [
      "The number 0 element of the periodic table is H\n",
      "The number 1 element of the periodic table is He\n",
      "The number 2 element of the periodic table is Li\n",
      "The number 3 element of the periodic table is Be\n",
      "The number 4 element of the periodic table is B\n",
      "The number 5 element of the periodic table is C\n",
      "The number 6 element of the periodic table is N\n",
      "The number 7 element of the periodic table is O\n",
      "The number 8 element of the periodic table is F\n",
      "The number 9 element of the periodic table is Ne\n"
     ]
    }
   ],
   "source": [
    "elements = ['H', 'He', 'Li', 'Be', 'B', 'C', 'N', 'O', 'F', 'Ne']\n",
    "\n",
    "for index, element in enumerate(elements):\n",
    "    print(f'The number {index} element of the periodic table is {element}')"
   ]
  },
  {
   "cell_type": "markdown",
   "metadata": {},
   "source": [
    "However, highschool chemistry taught us that elements are more than their one- or two-letter names, so let's use a `dict` data type for each element to specify some basic attributes."
   ]
  },
  {
   "cell_type": "code",
   "execution_count": 9,
   "metadata": {},
   "outputs": [
    {
     "name": "stdout",
     "output_type": "stream",
     "text": [
      "H\n",
      "1\n",
      "1.0078\n",
      "False\n"
     ]
    }
   ],
   "source": [
    "element = {\n",
    "    'name': 'H',\n",
    "    'number': 1,\n",
    "    'mass': 1.0078,\n",
    "    'is_noble': False\n",
    "}\n",
    "\n",
    "print(element['name'])\n",
    "print(element['number'])\n",
    "print(element['mass'])\n",
    "print(element['is_noble'])"
   ]
  },
  {
   "cell_type": "markdown",
   "metadata": {},
   "source": [
    "Now it's your turn to gain some experience with these fundamental data types, and explore each one's unique functionality and use cases! To get started, create a new file on your machine, and name it `task.py`.\n",
    "\n",
    "Create a `task` dictionary type variable which contains the keys `'name'`, `'desc'`, `'priority'`, `'is_done'`. For each key's value, `'name'` and `'desc'` can be any string you want, `'priority'` an `int`, and `'is_done'` a `bool`.\n",
    "\n",
    "Next, add print statements, accessing the value of each key, and printing it."
   ]
  },
  {
   "cell_type": "markdown",
   "metadata": {},
   "source": [
    "## Creating Functions\n",
    "\n",
    "What if we want to create multiple elements? We could manually type out the dictionary for `element_1`, `element_2`, and so on. However, there's a simpler way to reuse code we've already written, by wrapping it inside a function!\n",
    "\n",
    "To define a function, use the `def` keyword followed by the name of the function and a pair of parenthesis and a semicolon. "
   ]
  },
  {
   "cell_type": "code",
   "execution_count": null,
   "metadata": {},
   "outputs": [],
   "source": [
    "def create_element():\n",
    "    pass # This means do nothing, we'll add functionality shortly."
   ]
  },
  {
   "cell_type": "markdown",
   "metadata": {},
   "source": [
    "In Python, there's no need to specify a return type for functions. The value(s) and type(s) returned by a function are typically listed in a function's documentation. In our brand new function, we can pass our values to the function, create a `dict` variable with the values we pass, and return our newly created element!\n",
    "\n",
    "To pass arguments to a function, you must write them into the definition of the function, like below:"
   ]
  },
  {
   "cell_type": "code",
   "execution_count": null,
   "metadata": {},
   "outputs": [],
   "source": [
    "def create_element(name, number, mass, is_noble):\n",
    "    pass"
   ]
  },
  {
   "cell_type": "markdown",
   "metadata": {},
   "source": [
    "Now, this function can have parameters passed to it. In this case, we're passing the features of our element to this function, and expect a dictionary variable to be returned every time we call this function. Let's add the creation of the dictionary."
   ]
  },
  {
   "cell_type": "code",
   "execution_count": 19,
   "metadata": {},
   "outputs": [],
   "source": [
    "def create_element(name, number, mass, is_noble):\n",
    "    new_element = {\n",
    "        'name': name,\n",
    "        'number': number,\n",
    "        'mass': mass,\n",
    "        'is_noble': is_noble\n",
    "    }\n",
    "\n",
    "    return new_element"
   ]
  },
  {
   "cell_type": "markdown",
   "metadata": {},
   "source": [
    "This looks very similar to our original implementation, with one powerful change. We can now create elements in one line of code!"
   ]
  },
  {
   "cell_type": "code",
   "execution_count": 12,
   "metadata": {},
   "outputs": [],
   "source": [
    "h = create_element('H', 1, 1.0078, False)   # If I use all capitals for names, Python does something I don't want to do right now.\n",
    "he = create_element('He', 2, 4.0026, True)  # Also, Python naming convention is to default to lowercase anyways.\n",
    "li = create_element('Li', 3, 6.9410, False)\n",
    "be = create_element('Be', 4, 9.0122, False)\n",
    "b = create_element('B', 5, 10.811, False)\n",
    "c = create_element('C', 6, 12.011, False)\n",
    "n = create_element('N', 7, 14.007, False)\n",
    "o = create_element('O', 8, 15.999, False)\n",
    "f = create_element('F', 9, 18.998, False)\n",
    "ne = create_element('Ne', 10, 20.180, True)"
   ]
  },
  {
   "cell_type": "markdown",
   "metadata": {},
   "source": [
    "How convenient! We could record the entirety of the periodic table in just under 118 lines if we wanted to. What's great about using a function to create or elements is that we can access the information in a way that's easier for other people to read."
   ]
  },
  {
   "cell_type": "code",
   "execution_count": 18,
   "metadata": {},
   "outputs": [
    {
     "name": "stdout",
     "output_type": "stream",
     "text": [
      "The number 1 element of the periodic table is H\n",
      "The number 2 element of the periodic table is He\n",
      "The number 3 element of the periodic table is Li\n",
      "The number 4 element of the periodic table is Be\n",
      "The number 5 element of the periodic table is B\n",
      "The number 6 element of the periodic table is C\n",
      "The number 7 element of the periodic table is N\n",
      "The number 8 element of the periodic table is O\n",
      "The number 9 element of the periodic table is F\n",
      "The number 10 element of the periodic table is Ne\n"
     ]
    }
   ],
   "source": [
    "elements = [h, he, li, be, b, c, n, o, f, ne]\n",
    "\n",
    "for element in elements:\n",
    "    print(f'The number {element[\"number\"]} element of the periodic table is {element[\"name\"]}')"
   ]
  },
  {
   "cell_type": "markdown",
   "metadata": {},
   "source": [
    "To get a hang of the functionality that functions bring (no pun intended), switch back to your `task.py` file and try to apply the concept of creating a function called `create_task()` you can use to create multiple tasks on your todo list. Remember to include a way to add `name`, `desc`, `priority`, and `is_done` attributes to a newly created task.<br>\n",
    "*Note! Functions must be defined **before** they're called. So create your new tasks under where you wrote your function.*"
   ]
  },
  {
   "cell_type": "markdown",
   "metadata": {},
   "source": [
    "## Reading From and Writing To Files\n",
    "\n",
    "Here I will intro reading from files. Students can enter whatever they want into a .txt file, save it, and have their Python program read it.\n",
    "\n",
    "Then, I will intro writing to files. Students will use the same file they read from, and write something to it. This is probably all we'll do with these files."
   ]
  },
  {
   "cell_type": "markdown",
   "metadata": {},
   "source": [
    "## Libraries and Modules (The Fun Part!)\n",
    "\n",
    "Here, we'll go over import statements (that were probably previously used), talk about how and where to find interesting packages which suit your needs, and use all the skills from previous parts to create a final project (that's potentially resume-worthy!)."
   ]
  },
  {
   "cell_type": "markdown",
   "metadata": {},
   "source": []
  }
 ],
 "metadata": {
  "kernelspec": {
   "display_name": "Python 3",
   "language": "python",
   "name": "python3"
  },
  "language_info": {
   "codemirror_mode": {
    "name": "ipython",
    "version": 3
   },
   "file_extension": ".py",
   "mimetype": "text/x-python",
   "name": "python",
   "nbconvert_exporter": "python",
   "pygments_lexer": "ipython3",
   "version": "3.9.6"
  }
 },
 "nbformat": 4,
 "nbformat_minor": 2
}

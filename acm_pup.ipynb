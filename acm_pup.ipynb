{
 "cells": [
  {
   "cell_type": "markdown",
   "metadata": {},
   "source": [
    "# ACM Pick up Python Event\n",
    "\n",
    "Welcome to the Spring 2025 Pick up Python program! Here, students will be introduced to the basics of programming, with topics including variables, reading from and writing to files, creating functions, and working with libraries and modules. By the conclusion of this event, students will create a to-do application which incorporates the previously mentioned features to record, load, and organize tasks the user needs to complete.\n",
    "\n",
    "This program is designed for students who have little to no programming experience who are interested in Data Sicence, programming, or simply want to learn a second language. The intended way to experience this course is to learn in-person with guidance from ACM leadership.\n",
    "\n",
    "The contents and design of this course is heavily inspired by Practical Python Programming, a course by David Beazley. This course was first brought to my attention by Dr. Fenner, and he is currently using it in DS 362: Data Driven Knowledge Discovery. If you are interested in learning more about Python, please see the remainder of David's course [here](https://dabeaz-course.github.io/practical-python/Notes/Contents.html), or at https://dabeaz-course.github.io/practical-python/Notes/Contents.html."
   ]
  },
  {
   "cell_type": "markdown",
   "metadata": {},
   "source": [
    "## Prerequisites\n",
    "\n",
    "The only installation required for this program is the Python programming language itself. You will be responsible for configuring your code editor of choice to work with Python. Most of this program will have you working with Python in two ways: in your code editor, or within the command line/terminal prompt."
   ]
  },
  {
   "cell_type": "markdown",
   "metadata": {},
   "source": [
    "## Variables in Python\n",
    "\n",
    "If your background is with strongly-typed programming languages (C, Java, etc.), than the first thing you'll notice when writing Python is the lack of `type` keywords before every variable. In Python, the interpreter will figure out the type of your varaible based upon what is assigned to it."
   ]
  },
  {
   "cell_type": "code",
   "execution_count": 2,
   "metadata": {},
   "outputs": [],
   "source": [
    "count = 10\n",
    "pi = 3.14159256 \n",
    "flag = False\n",
    "username = \"h4ck3rm4n\""
   ]
  },
  {
   "cell_type": "markdown",
   "metadata": {},
   "source": [
    "To check if Python actually determines the type based upon assignment, you can make a call to the `type()` function, which tells you the type of a variable."
   ]
  },
  {
   "cell_type": "code",
   "execution_count": 3,
   "metadata": {},
   "outputs": [
    {
     "name": "stdout",
     "output_type": "stream",
     "text": [
      "<class 'int'>\n",
      "<class 'float'>\n",
      "<class 'bool'>\n",
      "<class 'str'>\n"
     ]
    }
   ],
   "source": [
    "print(type(count))\n",
    "print(type(pi))\n",
    "print(type(flag))\n",
    "print(type(username))"
   ]
  },
  {
   "cell_type": "markdown",
   "metadata": {},
   "source": [
    "Is this it? Are there any more data types? Of course! Most Python scripts and programs will make frequent use of three slightly more complex, but exceedingly more powerful, data types that deal with collections of variables. The fantastic four are: `dict`, `list`, `set`, and `tuple`."
   ]
  },
  {
   "cell_type": "code",
   "execution_count": 4,
   "metadata": {},
   "outputs": [],
   "source": [
    "checklist = ['Eggs', 'Ham', 'Coffee', 'Bread']                                          # Ordered list of same-type variables\n",
    "profile = {'name': 'Monty Python', 'age': 48, 'is_student': False, 'balance': 42.83}    # Key, Value pairs of varying types\n",
    "unique_names = {'John', 'Jim', 'Jack', 'Jane', 'Janice'}                                # Unordered list of same-type variables\n",
    "coordinates = (41.406848, -75.658259)                                                   # IMMUTABLE ordered list of same-type variables"
   ]
  },
  {
   "cell_type": "markdown",
   "metadata": {},
   "source": [
    "Just like the previous variables, you can call `type()` to make sure you and Python are on the same page."
   ]
  },
  {
   "cell_type": "code",
   "execution_count": 5,
   "metadata": {},
   "outputs": [
    {
     "name": "stdout",
     "output_type": "stream",
     "text": [
      "<class 'list'>\n",
      "<class 'dict'>\n",
      "<class 'set'>\n",
      "<class 'tuple'>\n"
     ]
    }
   ],
   "source": [
    "print(type(checklist))\n",
    "print(type(profile))\n",
    "print(type(unique_names))\n",
    "print(type(coordinates))"
   ]
  },
  {
   "cell_type": "markdown",
   "metadata": {},
   "source": [
    "Now, to do anything useful with these wonderful variables, we need a little bit of logic! If-statements work similar to those in Java and C, with only slightly different syntax."
   ]
  },
  {
   "cell_type": "code",
   "execution_count": 6,
   "metadata": {},
   "outputs": [
    {
     "name": "stdout",
     "output_type": "stream",
     "text": [
      "Value is set to False\n"
     ]
    }
   ],
   "source": [
    "value = False\n",
    "\n",
    "if value == True:\n",
    "    print('Value is set to True')\n",
    "elif value == False:                    # only way to write 'else if' in Python\n",
    "    print('Value is set to False')\n",
    "else:\n",
    "    print('Value variable not found')"
   ]
  },
  {
   "cell_type": "markdown",
   "metadata": {},
   "source": [
    "To do anything useful with the collection data types, we'll employ a list. Like Java and C, Python has `while` and `for` loops. `while` loops work identically to those in Java and C, where it continues to iterate until the condition is no longer satisfied (no longer evaluates to `True`)."
   ]
  },
  {
   "cell_type": "code",
   "execution_count": 7,
   "metadata": {},
   "outputs": [
    {
     "name": "stdout",
     "output_type": "stream",
     "text": [
      "The value is 0\n",
      "The value is 1\n",
      "The value is 2\n",
      "The value is 3\n",
      "The value is 4\n"
     ]
    }
   ],
   "source": [
    "i = 0\n",
    "while i < 5:\n",
    "    print('The value is', i)\n",
    "    i += 1                      # There is no ++ or -- in Python, sadly"
   ]
  },
  {
   "cell_type": "markdown",
   "metadata": {},
   "source": [
    "That being said, `for` loops work a bit differently in Python. `for` loops in Python are most similar to enhanced for loops in Java, where you simply iterate through a list in its entirety, and don't have too much care for a specific index or explicit loop condition."
   ]
  },
  {
   "cell_type": "code",
   "execution_count": 8,
   "metadata": {},
   "outputs": [
    {
     "name": "stdout",
     "output_type": "stream",
     "text": [
      "H\n",
      "He\n",
      "Li\n",
      "Be\n",
      "B\n",
      "C\n",
      "N\n",
      "O\n",
      "F\n",
      "Ne\n"
     ]
    }
   ],
   "source": [
    "elements = ['H', 'He', 'Li', 'Be', 'B', 'C', 'N', 'O', 'F', 'Ne']\n",
    "\n",
    "for element in elements:\n",
    "    print(element)"
   ]
  },
  {
   "cell_type": "markdown",
   "metadata": {},
   "source": [
    "Don't panic, you can still have your iterator in Python without too much hastle! All you need to do is to wrap your list in a call to `enumerate()`, which will pair each element of your list with a number (beginning at 0) which you can then use as your index!"
   ]
  },
  {
   "cell_type": "code",
   "execution_count": 9,
   "metadata": {},
   "outputs": [
    {
     "name": "stdout",
     "output_type": "stream",
     "text": [
      "The number 0 element of the periodic table is H\n",
      "The number 1 element of the periodic table is He\n",
      "The number 2 element of the periodic table is Li\n",
      "The number 3 element of the periodic table is Be\n",
      "The number 4 element of the periodic table is B\n",
      "The number 5 element of the periodic table is C\n",
      "The number 6 element of the periodic table is N\n",
      "The number 7 element of the periodic table is O\n",
      "The number 8 element of the periodic table is F\n",
      "The number 9 element of the periodic table is Ne\n"
     ]
    }
   ],
   "source": [
    "elements = ['H', 'He', 'Li', 'Be', 'B', 'C', 'N', 'O', 'F', 'Ne']\n",
    "\n",
    "for index, element in enumerate(elements):\n",
    "    print(f'The number {index} element of the periodic table is {element}')"
   ]
  },
  {
   "cell_type": "markdown",
   "metadata": {},
   "source": [
    "However, highschool chemistry taught us that elements are more than their one- or two-letter names, so let's use a `dict` data type for each element to specify some basic attributes."
   ]
  },
  {
   "cell_type": "code",
   "execution_count": 10,
   "metadata": {},
   "outputs": [
    {
     "name": "stdout",
     "output_type": "stream",
     "text": [
      "H\n",
      "1\n",
      "1.0078\n",
      "False\n"
     ]
    }
   ],
   "source": [
    "element = {\n",
    "    'name': 'H',\n",
    "    'number': 1,\n",
    "    'mass': 1.0078,\n",
    "    'is_noble': False\n",
    "}\n",
    "\n",
    "print(element['name'])\n",
    "print(element['number'])\n",
    "print(element['mass'])\n",
    "print(element['is_noble'])"
   ]
  },
  {
   "cell_type": "markdown",
   "metadata": {},
   "source": [
    "### Exercise\n",
    "\n",
    "Now it's your turn to gain some experience with these fundamental data types, and explore each one's unique functionality and use cases! To get started, create a new file on your machine, and name it `task.py`.\n",
    "\n",
    "Create a `task` dictionary type variable which contains the keys `'name'`, `'desc'`, `'priority'`, `'is_done'`. For each key's value, `'name'` and `'desc'` can be any string you want, `'priority'` an `int`, and `'is_done'` a `bool`.\n",
    "\n",
    "Next, add print statements, accessing the value of each key, and printing it."
   ]
  },
  {
   "cell_type": "markdown",
   "metadata": {},
   "source": [
    "## Creating Functions\n",
    "\n",
    "What if we want to create multiple elements? We could manually type out the dictionary for `element_1`, `element_2`, and so on. However, there's a simpler way to reuse code we've already written, by wrapping it inside a function!\n",
    "\n",
    "To define a function, use the `def` keyword followed by the name of the function and a pair of parenthesis and a semicolon. "
   ]
  },
  {
   "cell_type": "code",
   "execution_count": 11,
   "metadata": {},
   "outputs": [],
   "source": [
    "def create_element():\n",
    "    pass # This means do nothing, we'll add functionality shortly."
   ]
  },
  {
   "cell_type": "markdown",
   "metadata": {},
   "source": [
    "In Python, there's no need to specify a return type for functions. The value(s) and type(s) returned by a function are typically listed in a function's documentation. In our brand new function, we can pass our values to the function, create a `dict` variable with the values we pass, and return our newly created element!\n",
    "\n",
    "To pass arguments to a function, you must write them into the definition of the function, like below:"
   ]
  },
  {
   "cell_type": "code",
   "execution_count": 12,
   "metadata": {},
   "outputs": [],
   "source": [
    "def create_element(name, number, mass, is_noble):\n",
    "    pass"
   ]
  },
  {
   "cell_type": "markdown",
   "metadata": {},
   "source": [
    "Now, this function can have parameters passed to it. In this case, we're passing the features of our element to this function, and expect a dictionary variable to be returned every time we call this function. Let's add the creation of the dictionary."
   ]
  },
  {
   "cell_type": "code",
   "execution_count": 13,
   "metadata": {},
   "outputs": [],
   "source": [
    "def create_element(name, number, mass, is_noble):\n",
    "    new_element = {\n",
    "        'name': name,\n",
    "        'number': number,\n",
    "        'mass': mass,\n",
    "        'is_noble': is_noble\n",
    "    }\n",
    "\n",
    "    return new_element"
   ]
  },
  {
   "cell_type": "markdown",
   "metadata": {},
   "source": [
    "This looks very similar to our original implementation, with one powerful change. We can now create elements in one line of code!"
   ]
  },
  {
   "cell_type": "code",
   "execution_count": 14,
   "metadata": {},
   "outputs": [],
   "source": [
    "h = create_element('H', 1, 1.0078, False)   # If I use all capitals for variable names, Python does something I don't want to do right now.\n",
    "he = create_element('He', 2, 4.0026, True)  # Also, Python naming convention is to default to lowercase anyways.\n",
    "li = create_element('Li', 3, 6.9410, False)\n",
    "be = create_element('Be', 4, 9.0122, False)\n",
    "b = create_element('B', 5, 10.811, False)\n",
    "c = create_element('C', 6, 12.011, False)\n",
    "n = create_element('N', 7, 14.007, False)\n",
    "o = create_element('O', 8, 15.999, False)\n",
    "f = create_element('F', 9, 18.998, False)\n",
    "ne = create_element('Ne', 10, 20.180, True)"
   ]
  },
  {
   "cell_type": "markdown",
   "metadata": {},
   "source": [
    "How convenient! We could record the entirety of the periodic table in just under 118 lines if we wanted to. What's great about using a function to create or elements is that we can access the information in a way that's easier for other people to read."
   ]
  },
  {
   "cell_type": "code",
   "execution_count": 15,
   "metadata": {},
   "outputs": [
    {
     "name": "stdout",
     "output_type": "stream",
     "text": [
      "The number 1 element of the periodic table is H\n",
      "The number 2 element of the periodic table is He\n",
      "The number 3 element of the periodic table is Li\n",
      "The number 4 element of the periodic table is Be\n",
      "The number 5 element of the periodic table is B\n",
      "The number 6 element of the periodic table is C\n",
      "The number 7 element of the periodic table is N\n",
      "The number 8 element of the periodic table is O\n",
      "The number 9 element of the periodic table is F\n",
      "The number 10 element of the periodic table is Ne\n"
     ]
    }
   ],
   "source": [
    "elements = [h, he, li, be, b, c, n, o, f, ne]\n",
    "\n",
    "for element in elements:\n",
    "    print(f'The number {element[\"number\"]} element of the periodic table is {element[\"name\"]}')"
   ]
  },
  {
   "cell_type": "markdown",
   "metadata": {},
   "source": [
    "### Exercise\n",
    "\n",
    "To get a hang of the functionality that functions bring (no pun intended), switch back to your `task.py` file and try to apply the concept of creating a function called `create_task()` you can use to create multiple tasks on your todo list. Remember to include a way to add `name`, `desc`, `priority`, and `is_done` attributes to a newly created task.<br><br>\n",
    "*Note! Functions must be defined **before** they're called. So create your new tasks under where you wrote your function.*"
   ]
  },
  {
   "cell_type": "markdown",
   "metadata": {},
   "source": [
    "## Reading From and Writing To Files\n",
    "\n",
    "Python has several functions that come \"built-in\" with the standard installation. In this lesson, we've already used a couple of functions, including `type()` and `print()`. Another function worth highlighting is the `open()` function, which can open files on your local computer.<br><br>\n",
    "To understand more about any built-in Python function, call `help()`, then pass the function *without parentheses* as an argument to display its information. See what happens when you call `help(open)`."
   ]
  },
  {
   "cell_type": "code",
   "execution_count": 16,
   "metadata": {},
   "outputs": [
    {
     "name": "stdout",
     "output_type": "stream",
     "text": [
      "Help on function open in module _io:\n",
      "\n",
      "open(file, mode='r', buffering=-1, encoding=None, errors=None, newline=None, closefd=True, opener=None)\n",
      "    Open file and return a stream.  Raise OSError upon failure.\n",
      "\n",
      "    file is either a text or byte string giving the name (and the path\n",
      "    if the file isn't in the current working directory) of the file to\n",
      "    be opened or an integer file descriptor of the file to be\n",
      "    wrapped. (If a file descriptor is given, it is closed when the\n",
      "    returned I/O object is closed, unless closefd is set to False.)\n",
      "\n",
      "    mode is an optional string that specifies the mode in which the file\n",
      "    is opened. It defaults to 'r' which means open for reading in text\n",
      "    mode.  Other common values are 'w' for writing (truncating the file if\n",
      "    it already exists), 'x' for creating and writing to a new file, and\n",
      "    'a' for appending (which on some Unix systems, means that all writes\n",
      "    append to the end of the file regardless of the current seek position).\n",
      "    In text mode, if encoding is not specified the encoding used is platform\n",
      "    dependent: locale.getencoding() is called to get the current locale encoding.\n",
      "    (For reading and writing raw bytes use binary mode and leave encoding\n",
      "    unspecified.) The available modes are:\n",
      "\n",
      "    ========= ===============================================================\n",
      "    Character Meaning\n",
      "    --------- ---------------------------------------------------------------\n",
      "    'r'       open for reading (default)\n",
      "    'w'       open for writing, truncating the file first\n",
      "    'x'       create a new file and open it for writing\n",
      "    'a'       open for writing, appending to the end of the file if it exists\n",
      "    'b'       binary mode\n",
      "    't'       text mode (default)\n",
      "    '+'       open a disk file for updating (reading and writing)\n",
      "    ========= ===============================================================\n",
      "\n",
      "    The default mode is 'rt' (open for reading text). For binary random\n",
      "    access, the mode 'w+b' opens and truncates the file to 0 bytes, while\n",
      "    'r+b' opens the file without truncation. The 'x' mode implies 'w' and\n",
      "    raises an `FileExistsError` if the file already exists.\n",
      "\n",
      "    Python distinguishes between files opened in binary and text modes,\n",
      "    even when the underlying operating system doesn't. Files opened in\n",
      "    binary mode (appending 'b' to the mode argument) return contents as\n",
      "    bytes objects without any decoding. In text mode (the default, or when\n",
      "    't' is appended to the mode argument), the contents of the file are\n",
      "    returned as strings, the bytes having been first decoded using a\n",
      "    platform-dependent encoding or using the specified encoding if given.\n",
      "\n",
      "    buffering is an optional integer used to set the buffering policy.\n",
      "    Pass 0 to switch buffering off (only allowed in binary mode), 1 to select\n",
      "    line buffering (only usable in text mode), and an integer > 1 to indicate\n",
      "    the size of a fixed-size chunk buffer.  When no buffering argument is\n",
      "    given, the default buffering policy works as follows:\n",
      "\n",
      "    * Binary files are buffered in fixed-size chunks; the size of the buffer\n",
      "      is chosen using a heuristic trying to determine the underlying device's\n",
      "      \"block size\" and falling back on `io.DEFAULT_BUFFER_SIZE`.\n",
      "      On many systems, the buffer will typically be 4096 or 8192 bytes long.\n",
      "\n",
      "    * \"Interactive\" text files (files for which isatty() returns True)\n",
      "      use line buffering.  Other text files use the policy described above\n",
      "      for binary files.\n",
      "\n",
      "    encoding is the name of the encoding used to decode or encode the\n",
      "    file. This should only be used in text mode. The default encoding is\n",
      "    platform dependent, but any encoding supported by Python can be\n",
      "    passed.  See the codecs module for the list of supported encodings.\n",
      "\n",
      "    errors is an optional string that specifies how encoding errors are to\n",
      "    be handled---this argument should not be used in binary mode. Pass\n",
      "    'strict' to raise a ValueError exception if there is an encoding error\n",
      "    (the default of None has the same effect), or pass 'ignore' to ignore\n",
      "    errors. (Note that ignoring encoding errors can lead to data loss.)\n",
      "    See the documentation for codecs.register or run 'help(codecs.Codec)'\n",
      "    for a list of the permitted encoding error strings.\n",
      "\n",
      "    newline controls how universal newlines works (it only applies to text\n",
      "    mode). It can be None, '', '\\n', '\\r', and '\\r\\n'.  It works as\n",
      "    follows:\n",
      "\n",
      "    * On input, if newline is None, universal newlines mode is\n",
      "      enabled. Lines in the input can end in '\\n', '\\r', or '\\r\\n', and\n",
      "      these are translated into '\\n' before being returned to the\n",
      "      caller. If it is '', universal newline mode is enabled, but line\n",
      "      endings are returned to the caller untranslated. If it has any of\n",
      "      the other legal values, input lines are only terminated by the given\n",
      "      string, and the line ending is returned to the caller untranslated.\n",
      "\n",
      "    * On output, if newline is None, any '\\n' characters written are\n",
      "      translated to the system default line separator, os.linesep. If\n",
      "      newline is '' or '\\n', no translation takes place. If newline is any\n",
      "      of the other legal values, any '\\n' characters written are translated\n",
      "      to the given string.\n",
      "\n",
      "    If closefd is False, the underlying file descriptor will be kept open\n",
      "    when the file is closed. This does not work when a file name is given\n",
      "    and must be True in that case.\n",
      "\n",
      "    A custom opener can be used by passing a callable as *opener*. The\n",
      "    underlying file descriptor for the file object is then obtained by\n",
      "    calling *opener* with (*file*, *flags*). *opener* must return an open\n",
      "    file descriptor (passing os.open as *opener* results in functionality\n",
      "    similar to passing None).\n",
      "\n",
      "    open() returns a file object whose type depends on the mode, and\n",
      "    through which the standard file operations such as reading and writing\n",
      "    are performed. When open() is used to open a file in a text mode ('w',\n",
      "    'r', 'wt', 'rt', etc.), it returns a TextIOWrapper. When used to open\n",
      "    a file in a binary mode, the returned class varies: in read binary\n",
      "    mode, it returns a BufferedReader; in write binary and append binary\n",
      "    modes, it returns a BufferedWriter, and in read/write mode, it returns\n",
      "    a BufferedRandom.\n",
      "\n",
      "    It is also possible to use a string or bytearray as a file for both\n",
      "    reading and writing. For strings StringIO can be used like a file\n",
      "    opened in a text mode, and for bytes a BytesIO can be used like a file\n",
      "    opened in a binary mode.\n",
      "\n"
     ]
    }
   ],
   "source": [
    "help(open)"
   ]
  },
  {
   "cell_type": "markdown",
   "metadata": {},
   "source": [
    "For this tutorial, we'll use the `open()` function the easier way, where you don't have to worry about closing a file after you open it. Despite this, working with files can still prove challenging if done carlessly."
   ]
  },
  {
   "cell_type": "code",
   "execution_count": 17,
   "metadata": {},
   "outputs": [
    {
     "name": "stdout",
     "output_type": "stream",
     "text": [
      "<_io.TextIOWrapper name='elements.txt' mode='r' encoding='UTF-8'>\n"
     ]
    }
   ],
   "source": [
    "with open('elements.txt', 'r') as file: # The 'r' stands for read-only\n",
    "    print(file)"
   ]
  },
  {
   "cell_type": "markdown",
   "metadata": {},
   "source": [
    "This is an example of being careless. Understanding why Python prints this, instead of the contents of our file, is beyond the scope of this program. However, there is an easy solution to read the file. The easiest way to read the lines from a file is to iterate through the entire file object using a `for` loop."
   ]
  },
  {
   "cell_type": "code",
   "execution_count": 18,
   "metadata": {},
   "outputs": [
    {
     "name": "stdout",
     "output_type": "stream",
     "text": [
      "Hydrogen,H,1\n",
      "\n",
      "Helium,He,2\n",
      "\n",
      "Lithium,Li,3\n",
      "\n",
      "Beryllium,Be,4\n",
      "\n",
      "Boron,B,5\n",
      "\n",
      "Carbon,C,6\n",
      "\n",
      "Nitrogen,N,7\n",
      "\n",
      "Oxygen,O,8\n",
      "\n",
      "Fluorine,F,9\n",
      "\n",
      "Neon,Ne,10\n",
      "\n",
      "Sodium,Na,11\n",
      "\n",
      "Magnesium,Mg,12\n",
      "\n",
      "Aluminium,Al,13\n",
      "\n",
      "Silicon,Si,14\n",
      "\n",
      "Phosphorus,P,15\n",
      "\n",
      "Sulfur,S,16\n",
      "\n",
      "Chlorine,Cl,17\n",
      "\n",
      "Argon,Ar,18\n",
      "\n",
      "Potassium,K,19\n",
      "\n",
      "Calcium,Ca,20\n",
      "\n",
      "Scandium,Sc,21\n",
      "\n",
      "Titanium,Ti,22\n",
      "\n",
      "Vanadium,V,23\n",
      "\n",
      "Chromium,Cr,24\n",
      "\n",
      "Manganese,Mn,25\n",
      "\n",
      "Iron,Fe,26\n",
      "\n",
      "Cobalt,Co,27\n",
      "\n",
      "Nickel,Ni,28\n",
      "\n",
      "Copper,Cu,29\n",
      "\n",
      "Zinc,Zn,30\n",
      "\n",
      "Gallium,Ga,31\n",
      "\n",
      "Germanium,Ge,32\n",
      "\n",
      "Arsenic,As,33\n",
      "\n",
      "Selenium,Se,34\n",
      "\n",
      "Bromine,Br,35\n",
      "\n",
      "Krypton,Kr,36\n",
      "\n",
      "Rubidium,Rb,37\n",
      "\n",
      "Strontium,Sr,38\n",
      "\n",
      "Yttrium,Y,39\n",
      "\n",
      "Zirconium,Zr,40\n",
      "\n",
      "Niobium,Nb,41\n",
      "\n",
      "Molybdenum,Mo,42\n",
      "\n",
      "Technetium,Tc,43\n",
      "\n",
      "Ruthenium,Ru,44\n",
      "\n",
      "Rhodium,Rh,45\n",
      "\n",
      "Palladium,Pd,46\n",
      "\n",
      "Silver,Ag,47\n",
      "\n",
      "Cadmium,Cd,48\n",
      "\n",
      "Indium,In,49\n",
      "\n",
      "Tin,Sn,50\n",
      "\n",
      "Antimony,Sb,51\n",
      "\n",
      "Tellurium,Te,52\n",
      "\n",
      "Iodine,I,53\n",
      "\n",
      "Xenon,Xe,54\n",
      "\n",
      "Caesium,Cs,55\n",
      "\n",
      "Barium,Ba,56\n",
      "\n",
      "Lanthanum,La,57\n",
      "\n",
      "Cerium,Ce,58\n",
      "\n",
      "Praseodymium,Pr,59\n",
      "\n",
      "Neodymium,Nd,60\n",
      "\n",
      "Promethium,Pm,61\n",
      "\n",
      "Samarium,Sm,62\n",
      "\n",
      "Europium,Eu,63\n",
      "\n",
      "Gadolinium,Gd,64\n",
      "\n",
      "Terbium,Tb,65\n",
      "\n",
      "Dysprosium,Dy,66\n",
      "\n",
      "Holmium,Ho,67\n",
      "\n",
      "Erbium,Er,68\n",
      "\n",
      "Thulium,Tm,69\n",
      "\n",
      "Ytterbium,Yb,70\n",
      "\n",
      "Lutetium,Lu,71\n",
      "\n",
      "Hafnium,Hf,72\n",
      "\n",
      "Tantalum,Ta,73\n",
      "\n",
      "Tungsten,W,74\n",
      "\n",
      "Rhenium,Re,75\n",
      "\n",
      "Osmium,Os,76\n",
      "\n",
      "Iridium,Ir,77\n",
      "\n",
      "Platinum,Pt,78\n",
      "\n",
      "Gold,Au,79\n",
      "\n",
      "Mercury,Hg,80\n",
      "\n",
      "Thallium,Tl,81\n",
      "\n",
      "Lead,Pb,82\n",
      "\n",
      "Bismuth,Bi,83\n",
      "\n",
      "Polonium,Po,84\n",
      "\n",
      "Astatine,At,85\n",
      "\n",
      "Radon,Rn,86\n",
      "\n",
      "Francium,Fr,87\n",
      "\n",
      "Radium,Ra,88\n",
      "\n",
      "Actinium,Ac,89\n",
      "\n",
      "Thorium,Th,90\n",
      "\n",
      "Protactinium,Pa,91\n",
      "\n",
      "Uranium,U,92\n",
      "\n",
      "Neptunium,Np,93\n",
      "\n",
      "Plutonium,Pu,94\n",
      "\n",
      "Americium,Am,95\n",
      "\n",
      "Curium,Cm,96\n",
      "\n",
      "Berkelium,Bk,97\n",
      "\n",
      "Californium,Cf,98\n",
      "\n",
      "Einsteinium,Es,99\n",
      "\n",
      "Fermium,Fm,100\n",
      "\n",
      "Mendelevium,Md,101\n",
      "\n",
      "Nobelium,No,102\n",
      "\n",
      "Lawrencium,Lr,103\n",
      "\n",
      "Rutherfordium,Rf,104\n",
      "\n",
      "Dubnium,Db,105\n",
      "\n",
      "Seaborgium,Sg,106\n",
      "\n",
      "Bohrium,Bh,107\n",
      "\n",
      "Hassium,Hs,108\n",
      "\n",
      "Meitnerium,Mt,109\n",
      "\n",
      "Darmstadtium,Ds,110\n",
      "\n",
      "Roentgenium,Rg,111\n",
      "\n",
      "Copernicium,Cn,112\n",
      "\n",
      "Nihonium,Nh,113\n",
      "\n",
      "Flerovium,Fl,114\n",
      "\n",
      "Moscovium,Mc,115\n",
      "\n",
      "Livermorium,Lv,116\n",
      "\n",
      "Tennessine,Ts,117\n",
      "\n",
      "Oganesson,Og,118\n",
      "\n",
      "Scrantonite,Uofs,119\n",
      "\n"
     ]
    }
   ],
   "source": [
    "with open('elements.txt', 'r') as file:\n",
    "    for line in file:\n",
    "        print(line)"
   ]
  },
  {
   "cell_type": "markdown",
   "metadata": {},
   "source": [
    "Great! We can now create programs that can access text documents. Let's take it one step further and write data to our text file. To accomplish this, we'll call `file.write()`, which writes the variable passed to it into the current file your program opened. Let's test out this built-in method by creating a new element. The formatting of our `elements.txt` file differs from the data type we created, but we can handle the conversion. <br><br>\n",
    "*Warning! Running the following segment WILL append our `scrantonite` element to the end of our file multiple times.*"
   ]
  },
  {
   "cell_type": "code",
   "execution_count": 19,
   "metadata": {},
   "outputs": [],
   "source": [
    "scrantonite = create_element('Uofs', 119, 570, False)\n",
    "\n",
    "with open('elements.txt', 'a') as file: # The 'a' stands for append to the end of the file\n",
    "    entry = f'Scrantonite,{scrantonite[\"name\"]},{scrantonite[\"number\"]}\\n'\n",
    "    file.write(entry)"
   ]
  },
  {
   "cell_type": "markdown",
   "metadata": {},
   "source": [
    "### Exercise\n",
    "\n",
    "To gain a better understanding of reading and writing to files, create your own file, name it `saved_tasks.txt`, and use the `open()`, `print()`, and `write()` functions to open your file, read any contents of it, and write new contents to the file."
   ]
  },
  {
   "cell_type": "markdown",
   "metadata": {},
   "source": [
    "## Libraries and Modules (The Fun Part!)\n",
    "\n",
    "\"What about other types of files? A lot of data I've seen is in `.csv` format, can we use Python to work with that?\"<br><br>\n",
    "Yes we can.<br><br>\n",
    "To make our lives exponentially easier, we'll need help from a Python library. A library in Python, and many other programming languages, is a collection of pre-written functions that provide useful functionality to help developers perform common tasks without having to write code from scratch.<br><br>\n",
    "The functions we've been using come from Python's built-in functions, the collection of functions that come with every installation of Python. To see these standard functions, we can call one of these standard functions `dir()`."
   ]
  },
  {
   "cell_type": "code",
   "execution_count": 20,
   "metadata": {},
   "outputs": [
    {
     "data": {
      "text/plain": [
       "['In',\n",
       " 'Out',\n",
       " '_',\n",
       " '__',\n",
       " '___',\n",
       " '__builtin__',\n",
       " '__builtins__',\n",
       " '__doc__',\n",
       " '__loader__',\n",
       " '__name__',\n",
       " '__package__',\n",
       " '__spec__',\n",
       " '__vsc_ipynb_file__',\n",
       " '_dh',\n",
       " '_i',\n",
       " '_i1',\n",
       " '_i10',\n",
       " '_i11',\n",
       " '_i12',\n",
       " '_i13',\n",
       " '_i14',\n",
       " '_i15',\n",
       " '_i16',\n",
       " '_i17',\n",
       " '_i18',\n",
       " '_i19',\n",
       " '_i2',\n",
       " '_i20',\n",
       " '_i3',\n",
       " '_i4',\n",
       " '_i5',\n",
       " '_i6',\n",
       " '_i7',\n",
       " '_i8',\n",
       " '_i9',\n",
       " '_ih',\n",
       " '_ii',\n",
       " '_iii',\n",
       " '_oh',\n",
       " 'b',\n",
       " 'be',\n",
       " 'c',\n",
       " 'checklist',\n",
       " 'coordinates',\n",
       " 'count',\n",
       " 'create_element',\n",
       " 'element',\n",
       " 'elements',\n",
       " 'entry',\n",
       " 'exit',\n",
       " 'f',\n",
       " 'file',\n",
       " 'flag',\n",
       " 'get_ipython',\n",
       " 'h',\n",
       " 'he',\n",
       " 'i',\n",
       " 'index',\n",
       " 'li',\n",
       " 'line',\n",
       " 'n',\n",
       " 'ne',\n",
       " 'o',\n",
       " 'open',\n",
       " 'pandas',\n",
       " 'pi',\n",
       " 'profile',\n",
       " 'quit',\n",
       " 'scrantonite',\n",
       " 'unique_names',\n",
       " 'username',\n",
       " 'value']"
      ]
     },
     "execution_count": 20,
     "metadata": {},
     "output_type": "execute_result"
    }
   ],
   "source": [
    "dir()"
   ]
  },
  {
   "cell_type": "markdown",
   "metadata": {},
   "source": [
    "We're seeing a lot of functions here because we're actually taking our first peek under the hood of this programming language. To clear away this clutter, we can run the following line of Python code to see functions we created earlier in this program."
   ]
  },
  {
   "cell_type": "code",
   "execution_count": 21,
   "metadata": {},
   "outputs": [
    {
     "name": "stdout",
     "output_type": "stream",
     "text": [
      "['In', 'Out', 'b', 'be', 'c', 'checklist', 'coordinates', 'count', 'create_element', 'element', 'elements', 'entry', 'exit', 'f', 'file', 'flag', 'get_ipython', 'h', 'he', 'i', 'index', 'li', 'line', 'n', 'ne', 'o', 'open', 'pandas', 'pi', 'profile', 'quit', 'scrantonite', 'unique_names', 'username', 'value']\n"
     ]
    }
   ],
   "source": [
    "# Further reading/googling: List Comprehensions\n",
    "print([m for m in dir() if not (m.startswith('__') or m.startswith(\"_\"))])"
   ]
  },
  {
   "cell_type": "markdown",
   "metadata": {},
   "source": [
    "We can see that, aside from every single variable and function we created, Python includes a couple of its own variables and functions that are available to programmers at all times. This is great for a small set of functions that nearly every programmer would realistically use at some point.<br>\n",
    "However, not every Python programmer wants to work with `.csv` files, but inclusion of the ability to work with `.csv` files is very popular. To solve this dilemma, many programming languages include a collection of standard libraries with every installation. A library is convenient because you can choose whether your program needs access to a group of functions or not.<br>\n",
    "To get access to the functions we need to work with `.csv` files, fittingly, we'll import the `csv` library. Import statements are written at the beginning of every Python program, so that, just like the functions you wrote, the rest of your program can have access to the functions you are importing."
   ]
  },
  {
   "cell_type": "code",
   "execution_count": 22,
   "metadata": {},
   "outputs": [],
   "source": [
    "import csv"
   ]
  },
  {
   "cell_type": "markdown",
   "metadata": {},
   "source": [
    "Now that we've imported our first library, let's use the wonderful functions it provides us! The first function we'll use is the `reader()` function. This function tells Python to begin at the top of our file, and read down the file line-by-line when we tell it to."
   ]
  },
  {
   "cell_type": "code",
   "execution_count": 23,
   "metadata": {},
   "outputs": [
    {
     "name": "stdout",
     "output_type": "stream",
     "text": [
      "['Hydrogen', 'H', '1']\n",
      "['Helium', 'He', '2']\n",
      "['Lithium', 'Li', '3']\n",
      "['Beryllium', 'Be', '4']\n",
      "['Boron', 'B', '5']\n",
      "['Carbon', 'C', '6']\n",
      "['Nitrogen', 'N', '7']\n",
      "['Oxygen', 'O', '8']\n",
      "['Fluorine', 'F', '9']\n",
      "['Neon', 'Ne', '10']\n",
      "['Sodium', 'Na', '11']\n",
      "['Magnesium', 'Mg', '12']\n",
      "['Aluminium', 'Al', '13']\n",
      "['Silicon', 'Si', '14']\n",
      "['Phosphorus', 'P', '15']\n",
      "['Sulfur', 'S', '16']\n",
      "['Chlorine', 'Cl', '17']\n",
      "['Argon', 'Ar', '18']\n",
      "['Potassium', 'K', '19']\n",
      "['Calcium', 'Ca', '20']\n",
      "['Scandium', 'Sc', '21']\n",
      "['Titanium', 'Ti', '22']\n",
      "['Vanadium', 'V', '23']\n",
      "['Chromium', 'Cr', '24']\n",
      "['Manganese', 'Mn', '25']\n",
      "['Iron', 'Fe', '26']\n",
      "['Cobalt', 'Co', '27']\n",
      "['Nickel', 'Ni', '28']\n",
      "['Copper', 'Cu', '29']\n",
      "['Zinc', 'Zn', '30']\n",
      "['Gallium', 'Ga', '31']\n",
      "['Germanium', 'Ge', '32']\n",
      "['Arsenic', 'As', '33']\n",
      "['Selenium', 'Se', '34']\n",
      "['Bromine', 'Br', '35']\n",
      "['Krypton', 'Kr', '36']\n",
      "['Rubidium', 'Rb', '37']\n",
      "['Strontium', 'Sr', '38']\n",
      "['Yttrium', 'Y', '39']\n",
      "['Zirconium', 'Zr', '40']\n",
      "['Niobium', 'Nb', '41']\n",
      "['Molybdenum', 'Mo', '42']\n",
      "['Technetium', 'Tc', '43']\n",
      "['Ruthenium', 'Ru', '44']\n",
      "['Rhodium', 'Rh', '45']\n",
      "['Palladium', 'Pd', '46']\n",
      "['Silver', 'Ag', '47']\n",
      "['Cadmium', 'Cd', '48']\n",
      "['Indium', 'In', '49']\n",
      "['Tin', 'Sn', '50']\n",
      "['Antimony', 'Sb', '51']\n",
      "['Tellurium', 'Te', '52']\n",
      "['Iodine', 'I', '53']\n",
      "['Xenon', 'Xe', '54']\n",
      "['Caesium', 'Cs', '55']\n",
      "['Barium', 'Ba', '56']\n",
      "['Lanthanum', 'La', '57']\n",
      "['Cerium', 'Ce', '58']\n",
      "['Praseodymium', 'Pr', '59']\n",
      "['Neodymium', 'Nd', '60']\n",
      "['Promethium', 'Pm', '61']\n",
      "['Samarium', 'Sm', '62']\n",
      "['Europium', 'Eu', '63']\n",
      "['Gadolinium', 'Gd', '64']\n",
      "['Terbium', 'Tb', '65']\n",
      "['Dysprosium', 'Dy', '66']\n",
      "['Holmium', 'Ho', '67']\n",
      "['Erbium', 'Er', '68']\n",
      "['Thulium', 'Tm', '69']\n",
      "['Ytterbium', 'Yb', '70']\n",
      "['Lutetium', 'Lu', '71']\n",
      "['Hafnium', 'Hf', '72']\n",
      "['Tantalum', 'Ta', '73']\n",
      "['Tungsten', 'W', '74']\n",
      "['Rhenium', 'Re', '75']\n",
      "['Osmium', 'Os', '76']\n",
      "['Iridium', 'Ir', '77']\n",
      "['Platinum', 'Pt', '78']\n",
      "['Gold', 'Au', '79']\n",
      "['Mercury', 'Hg', '80']\n",
      "['Thallium', 'Tl', '81']\n",
      "['Lead', 'Pb', '82']\n",
      "['Bismuth', 'Bi', '83']\n",
      "['Polonium', 'Po', '84']\n",
      "['Astatine', 'At', '85']\n",
      "['Radon', 'Rn', '86']\n",
      "['Francium', 'Fr', '87']\n",
      "['Radium', 'Ra', '88']\n",
      "['Actinium', 'Ac', '89']\n",
      "['Thorium', 'Th', '90']\n",
      "['Protactinium', 'Pa', '91']\n",
      "['Uranium', 'U', '92']\n",
      "['Neptunium', 'Np', '93']\n",
      "['Plutonium', 'Pu', '94']\n",
      "['Americium', 'Am', '95']\n",
      "['Curium', 'Cm', '96']\n",
      "['Berkelium', 'Bk', '97']\n",
      "['Californium', 'Cf', '98']\n",
      "['Einsteinium', 'Es', '99']\n",
      "['Fermium', 'Fm', '100']\n",
      "['Mendelevium', 'Md', '101']\n",
      "['Nobelium', 'No', '102']\n",
      "['Lawrencium', 'Lr', '103']\n",
      "['Rutherfordium', 'Rf', '104']\n",
      "['Dubnium', 'Db', '105']\n",
      "['Seaborgium', 'Sg', '106']\n",
      "['Bohrium', 'Bh', '107']\n",
      "['Hassium', 'Hs', '108']\n",
      "['Meitnerium', 'Mt', '109']\n",
      "['Darmstadtium', 'Ds', '110']\n",
      "['Roentgenium', 'Rg', '111']\n",
      "['Copernicium', 'Cn', '112']\n",
      "['Nihonium', 'Nh', '113']\n",
      "['Flerovium', 'Fl', '114']\n",
      "['Moscovium', 'Mc', '115']\n",
      "['Livermorium', 'Lv', '116']\n",
      "['Tennessine', 'Ts', '117']\n",
      "['Oganesson', 'Og', '118']\n"
     ]
    }
   ],
   "source": [
    "with open('elements.csv', 'r') as file:\n",
    "    rows = csv.reader(file) # Be ready to read at top of file\n",
    "    for row in rows:        # Read down the file line-by-line\n",
    "        print(row)          # Print current line"
   ]
  },
  {
   "cell_type": "markdown",
   "metadata": {},
   "source": [
    "Here we can see the output of this function is slightly different than the output from the `.txt` file. This is because the `csv` library will read every line of your `.csv` file, just like the `.txt` file. Then, it goes through each line, and separates the line into various parts, where each part is separated by a comma. It then puts this collection of parts into a list, which is much better than having to deal with a line as a single string.<br><br>\n",
    "Say we only want the symbol of every element. Looking at our previous code, we can see that the symbol is the 2nd element of every list. With the `csv` library, we can simply access the second element of every row in our `elements.csv` file, as if we were selecting the entire column!"
   ]
  },
  {
   "cell_type": "code",
   "execution_count": 24,
   "metadata": {},
   "outputs": [
    {
     "name": "stdout",
     "output_type": "stream",
     "text": [
      "H\n",
      "He\n",
      "Li\n",
      "Be\n",
      "B\n",
      "C\n",
      "N\n",
      "O\n",
      "F\n",
      "Ne\n",
      "Na\n",
      "Mg\n",
      "Al\n",
      "Si\n",
      "P\n",
      "S\n",
      "Cl\n",
      "Ar\n",
      "K\n",
      "Ca\n",
      "Sc\n",
      "Ti\n",
      "V\n",
      "Cr\n",
      "Mn\n",
      "Fe\n",
      "Co\n",
      "Ni\n",
      "Cu\n",
      "Zn\n",
      "Ga\n",
      "Ge\n",
      "As\n",
      "Se\n",
      "Br\n",
      "Kr\n",
      "Rb\n",
      "Sr\n",
      "Y\n",
      "Zr\n",
      "Nb\n",
      "Mo\n",
      "Tc\n",
      "Ru\n",
      "Rh\n",
      "Pd\n",
      "Ag\n",
      "Cd\n",
      "In\n",
      "Sn\n",
      "Sb\n",
      "Te\n",
      "I\n",
      "Xe\n",
      "Cs\n",
      "Ba\n",
      "La\n",
      "Ce\n",
      "Pr\n",
      "Nd\n",
      "Pm\n",
      "Sm\n",
      "Eu\n",
      "Gd\n",
      "Tb\n",
      "Dy\n",
      "Ho\n",
      "Er\n",
      "Tm\n",
      "Yb\n",
      "Lu\n",
      "Hf\n",
      "Ta\n",
      "W\n",
      "Re\n",
      "Os\n",
      "Ir\n",
      "Pt\n",
      "Au\n",
      "Hg\n",
      "Tl\n",
      "Pb\n",
      "Bi\n",
      "Po\n",
      "At\n",
      "Rn\n",
      "Fr\n",
      "Ra\n",
      "Ac\n",
      "Th\n",
      "Pa\n",
      "U\n",
      "Np\n",
      "Pu\n",
      "Am\n",
      "Cm\n",
      "Bk\n",
      "Cf\n",
      "Es\n",
      "Fm\n",
      "Md\n",
      "No\n",
      "Lr\n",
      "Rf\n",
      "Db\n",
      "Sg\n",
      "Bh\n",
      "Hs\n",
      "Mt\n",
      "Ds\n",
      "Rg\n",
      "Cn\n",
      "Nh\n",
      "Fl\n",
      "Mc\n",
      "Lv\n",
      "Ts\n",
      "Og\n"
     ]
    }
   ],
   "source": [
    "with open('elements.csv', 'r') as file:\n",
    "    rows = csv.reader(file)\n",
    "    for row in rows:\n",
    "        print(row[1])"
   ]
  },
  {
   "cell_type": "markdown",
   "metadata": {},
   "source": [
    "We can read `.csv` files, we can select any column we want, can we start writing values to our file? Almost. While the `csv` library does provide functionality for writing to `.csv` files, other developers created a 3rd-party library which greatly simplifies this process. Let's import `pandas`!<br><br>\n",
    "*Note: You are likely going to need to install the `pandas` library. You can do this by opening a terminal/command prompt and typing `pip install pandas`.*"
   ]
  },
  {
   "cell_type": "code",
   "execution_count": 25,
   "metadata": {},
   "outputs": [],
   "source": [
    "import pandas"
   ]
  },
  {
   "cell_type": "markdown",
   "metadata": {},
   "source": [
    "Now that `pandas` is successfully installed and imported, we can take advantage of its methods which allow us to effortless edit `.csv` files."
   ]
  },
  {
   "cell_type": "code",
   "execution_count": 26,
   "metadata": {},
   "outputs": [],
   "source": [
    "df = pandas.read_csv('elements.csv')\n",
    "\n"
   ]
  }
 ],
 "metadata": {
  "kernelspec": {
   "display_name": "base",
   "language": "python",
   "name": "python3"
  },
  "language_info": {
   "codemirror_mode": {
    "name": "ipython",
    "version": 3
   },
   "file_extension": ".py",
   "mimetype": "text/x-python",
   "name": "python",
   "nbconvert_exporter": "python",
   "pygments_lexer": "ipython3",
   "version": "3.12.7"
  }
 },
 "nbformat": 4,
 "nbformat_minor": 2
}
